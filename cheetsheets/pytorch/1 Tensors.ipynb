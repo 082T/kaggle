{
 "cells": [
  {
   "cell_type": "code",
   "execution_count": 1,
   "id": "dec17d7f-939e-46e0-9d0b-2de443a9e882",
   "metadata": {},
   "outputs": [],
   "source": [
    "import torch\n",
    "import numpy as np"
   ]
  },
  {
   "cell_type": "markdown",
   "id": "ff8b8b79-3025-4124-9d3d-b997a5018c2e",
   "metadata": {},
   "source": [
    "## Initialization"
   ]
  },
  {
   "cell_type": "code",
   "execution_count": 4,
   "id": "da0ae9a1-d42f-48de-9e99-07df93882da9",
   "metadata": {},
   "outputs": [
    {
     "name": "stdout",
     "output_type": "stream",
     "text": [
      "- Tensor a: \n",
      "tensor([1., 2., 3.])\n",
      "- Tensor b: \n",
      "tensor([4., 5., 6.])\n",
      "- Tensor c: \n",
      "tensor([[ 0.4751,  0.8661,  0.5484],\n",
      "        [-0.5086, -0.5014, -1.2908],\n",
      "        [ 1.7676,  2.2180, -0.6766]])\n",
      "- Tensor d: \n",
      "tensor([[0., 0., 0.],\n",
      "        [0., 0., 0.]])\n",
      "- Tensor e: \n",
      "tensor([[1., 1., 1.],\n",
      "        [1., 1., 1.]])\n"
     ]
    }
   ],
   "source": [
    "a = torch.tensor([1.0, 2.0, 3.0])\n",
    "b = torch.tensor([4.0, 5.0, 6.0])\n",
    "c = torch.randn(3, 3)\n",
    "d = torch.zeros(2, 3)\n",
    "e = torch.ones(2, 3)\n",
    "f = torch.from_numpy(np.array([1, 2, 3]))\n",
    "\n",
    "print(f\"- Tensor a: \\n{a}\")\n",
    "print(f\"- Tensor b: \\n{b}\")\n",
    "print(f\"- Tensor c: \\n{c}\")\n",
    "print(f\"- Tensor d: \\n{d}\")\n",
    "print(f\"- Tensor e: \\n{e}\")"
   ]
  },
  {
   "cell_type": "markdown",
   "id": "927556c7-c6ce-4545-8869-c5aef429a316",
   "metadata": {},
   "source": [
    "## Operations"
   ]
  },
  {
   "cell_type": "code",
   "execution_count": 8,
   "id": "961cfdf7-d82f-4880-bd71-dbf55598ecc4",
   "metadata": {},
   "outputs": [
    {
     "name": "stdout",
     "output_type": "stream",
     "text": [
      "- Addition: \n",
      "tensor([5., 7., 9.])\n",
      "- Subtraction: \n",
      "tensor([-3., -3., -3.])\n",
      "- Multiplication: \n",
      "tensor([ 4., 10., 18.])\n",
      "- Division: \n",
      "tensor([0.2500, 0.4000, 0.5000])\n",
      "- Power: \n",
      "tensor([  1.,  32., 729.])\n",
      "- Matmul: \n",
      "32.0\n",
      "- Matmul@: \n",
      "32.0\n"
     ]
    }
   ],
   "source": [
    "print(f\"- Addition: \\n{a + b}\")\n",
    "print(f\"- Subtraction: \\n{a - b}\")\n",
    "print(f\"- Multiplication: \\n{a * b}\")\n",
    "print(f\"- Division: \\n{a / b}\")\n",
    "print(f\"- Power: \\n{a ** b}\")\n",
    "print(f\"- Matmul: \\n{torch.matmul(a, b)}\")\n",
    "print(f\"- Matmul@: \\n{a @ b}\")"
   ]
  },
  {
   "cell_type": "markdown",
   "id": "5067fbe8-9812-4892-b23e-464723752235",
   "metadata": {},
   "source": [
    "## Reshaping and slicing"
   ]
  },
  {
   "cell_type": "code",
   "execution_count": 22,
   "id": "5e20f08d-21fe-4077-ae11-afdcf23cde1f",
   "metadata": {},
   "outputs": [
    {
     "name": "stdout",
     "output_type": "stream",
     "text": [
      "- x: \n",
      "tensor([[-1.9399, -0.6457, -0.5635, -0.8897],\n",
      "        [ 0.7518,  1.8127,  1.6863, -1.0440],\n",
      "        [-0.0254, -0.7236, -0.5028, -0.4732],\n",
      "        [ 0.8261, -0.5673, -0.2357, -0.4416]])\n",
      "- Reshaped x: \n",
      "tensor([[-1.9399, -0.6457, -0.5635, -0.8897,  0.7518,  1.8127,  1.6863, -1.0440],\n",
      "        [-0.0254, -0.7236, -0.5028, -0.4732,  0.8261, -0.5673, -0.2357, -0.4416]])\n",
      "- Sliced x: \n",
      "tensor([[-0.6457, -0.5635],\n",
      "        [ 1.8127,  1.6863],\n",
      "        [-0.7236, -0.5028],\n",
      "        [-0.5673, -0.2357]])\n",
      "- Added dim: \n",
      "tensor([[[-1.9399, -0.6457, -0.5635, -0.8897],\n",
      "         [ 0.7518,  1.8127,  1.6863, -1.0440],\n",
      "         [-0.0254, -0.7236, -0.5028, -0.4732],\n",
      "         [ 0.8261, -0.5673, -0.2357, -0.4416]]])\n",
      "- Removed dim: \n",
      "tensor([[-1.9399, -0.6457, -0.5635, -0.8897],\n",
      "        [ 0.7518,  1.8127,  1.6863, -1.0440],\n",
      "        [-0.0254, -0.7236, -0.5028, -0.4732],\n",
      "        [ 0.8261, -0.5673, -0.2357, -0.4416]])\n"
     ]
    }
   ],
   "source": [
    "x = torch.randn(4, 4)\n",
    "print(f\"- x: \\n{x}\")\n",
    "\n",
    "reshaped_x = x.view(2, 8)\n",
    "print(f\"- Reshaped x: \\n{reshaped_x}\")\n",
    "\n",
    "sliced_x = x[:, 1:3]\n",
    "print(f\"- Sliced x: \\n{sliced_x}\")\n",
    "\n",
    "added_dim = x.unsqueeze(0)\n",
    "print(f\"- Added dim: \\n{added_dim}\")\n",
    "\n",
    "removed_dim = added_dim.squeeze(0)\n",
    "print(f\"- Removed dim: \\n{removed_dim}\")"
   ]
  },
  {
   "cell_type": "markdown",
   "id": "c73169b9-3584-4f61-ac90-ab35c1f4c195",
   "metadata": {},
   "source": [
    "## CPU - GPU"
   ]
  },
  {
   "cell_type": "code",
   "execution_count": 33,
   "id": "1cf0bd0f-2a1e-4744-aa10-d06545b295dc",
   "metadata": {},
   "outputs": [
    {
     "name": "stdout",
     "output_type": "stream",
     "text": [
      "- Running on device: cuda\n",
      "- Tensor on cuda: \n",
      "tensor([1., 2., 3.], device='cuda:0')\n",
      "- Result on cuda: \n",
      "tensor([5., 7., 9.], device='cuda:0')\n",
      "- Result on cpu: \n",
      "tensor([5., 7., 9.])\n"
     ]
    }
   ],
   "source": [
    "device = torch.device(\"cuda\" if torch.cuda.is_available() else \"cpu\")\n",
    "print(f\"- Running on device: {device}\")\n",
    "\n",
    "x = torch.tensor([1.0, 2.0, 3.0])\n",
    "x = x.to(device)\n",
    "print(f\"- Tensor on {device}: \\n{x}\")\n",
    "\n",
    "y = torch.tensor([4.0, 5.0, 6.0]).to(device)\n",
    "z = x + y\n",
    "print(f\"- Result on {device}: \\n{z}\")\n",
    "\n",
    "z_cpu = z.to(\"cpu\")\n",
    "print(f\"- Result on cpu: \\n{z_cpu}\")"
   ]
  },
  {
   "cell_type": "code",
   "execution_count": null,
   "id": "0162214d-bad7-4105-a015-5ada88ed17d8",
   "metadata": {},
   "outputs": [],
   "source": []
  }
 ],
 "metadata": {
  "kernelspec": {
   "display_name": "pytorch-cuda",
   "language": "python",
   "name": "pytorch-cuda"
  },
  "language_info": {
   "codemirror_mode": {
    "name": "ipython",
    "version": 3
   },
   "file_extension": ".py",
   "mimetype": "text/x-python",
   "name": "python",
   "nbconvert_exporter": "python",
   "pygments_lexer": "ipython3",
   "version": "3.10.4"
  }
 },
 "nbformat": 4,
 "nbformat_minor": 5
}
