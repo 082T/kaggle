{
 "cells": [
  {
   "cell_type": "code",
   "execution_count": 1,
   "id": "2d1c86bf-3d6c-4488-bed5-bafebdd5e1a2",
   "metadata": {},
   "outputs": [],
   "source": [
    "import torch\n",
    "import torch.nn as nn"
   ]
  },
  {
   "cell_type": "markdown",
   "id": "2dbcda3a-f0ab-4593-a4ba-7a5fcaa72322",
   "metadata": {},
   "source": [
    "## MSE"
   ]
  },
  {
   "cell_type": "code",
   "execution_count": 3,
   "id": "cd2e912d-a34d-437c-8489-aef58be39a86",
   "metadata": {},
   "outputs": [
    {
     "name": "stdout",
     "output_type": "stream",
     "text": [
      "- Loss: 3.1013264656066895\n"
     ]
    }
   ],
   "source": [
    "inputs = torch.randn(3, 5, requires_grad=True)\n",
    "targets = torch.randn(3, 5)\n",
    "\n",
    "loss_fn = nn.MSELoss()\n",
    "\n",
    "loss = loss_fn(inputs, targets)\n",
    "print(f\"- Loss: {loss}\")"
   ]
  },
  {
   "cell_type": "markdown",
   "id": "cbb444a6-d073-4de5-9988-b40710b6e727",
   "metadata": {},
   "source": [
    "## Cross Entropy"
   ]
  },
  {
   "cell_type": "code",
   "execution_count": 12,
   "id": "3906da7b-2292-4c57-bf6c-5f215b2108b0",
   "metadata": {},
   "outputs": [
    {
     "name": "stdout",
     "output_type": "stream",
     "text": [
      "- Loss: 1.273645043373108\n"
     ]
    }
   ],
   "source": [
    "inputs = torch.randn(3, 5, requires_grad=True)\n",
    "targets = torch.tensor([1, 0, 4])\n",
    "\n",
    "loss_fn = nn.CrossEntropyLoss()\n",
    "\n",
    "loss = loss_fn(inputs, targets)\n",
    "print(f\"- Loss: {loss}\")"
   ]
  },
  {
   "cell_type": "markdown",
   "id": "7bfab3be-02ae-4e81-99b4-36739c16e946",
   "metadata": {},
   "source": [
    "## Binary Cross Entropy"
   ]
  },
  {
   "cell_type": "code",
   "execution_count": 13,
   "id": "97c8d08e-601f-45e6-91c6-064c98cd9588",
   "metadata": {},
   "outputs": [
    {
     "name": "stdout",
     "output_type": "stream",
     "text": [
      "- Loss: 0.7771205902099609\n"
     ]
    }
   ],
   "source": [
    "inputs = torch.sigmoid(torch.randn(3, 1, requires_grad=True))\n",
    "targets = torch.tensor([[1], [0], [1]], dtype=torch.float32)\n",
    "\n",
    "loss_fn = nn.BCELoss()\n",
    "\n",
    "loss = loss_fn(inputs, targets)\n",
    "print(f\"- Loss: {loss}\")"
   ]
  },
  {
   "cell_type": "markdown",
   "id": "c444c15a-5d1c-4ae4-ac3e-4ba888594744",
   "metadata": {},
   "source": [
    "## BCEWithLogitsLoss"
   ]
  },
  {
   "cell_type": "code",
   "execution_count": 15,
   "id": "f8ee2f09-44dc-4033-8d6b-75c381bd881c",
   "metadata": {},
   "outputs": [
    {
     "name": "stdout",
     "output_type": "stream",
     "text": [
      "- Loss: 0.837831437587738\n"
     ]
    }
   ],
   "source": [
    "inputs = torch.randn(3, 1, requires_grad=True)\n",
    "targets = torch.tensor([[1], [0], [1]], dtype=torch.float32)\n",
    "\n",
    "loss_fn = nn.BCEWithLogitsLoss()\n",
    "\n",
    "loss = loss_fn(inputs, targets)\n",
    "print(f\"- Loss: {loss}\")"
   ]
  },
  {
   "cell_type": "markdown",
   "id": "7066bec6-6fe6-48f4-b202-c79380f85ada",
   "metadata": {},
   "source": [
    "## NLLLoss"
   ]
  },
  {
   "cell_type": "code",
   "execution_count": 18,
   "id": "63c1ec3a-a130-4dc8-a7fd-b6c05d71e0d7",
   "metadata": {},
   "outputs": [
    {
     "name": "stdout",
     "output_type": "stream",
     "text": [
      "- Loss: 2.109113931655884\n"
     ]
    }
   ],
   "source": [
    "inputs = torch.log_softmax(torch.randn(3, 5, requires_grad=True), dim=1)\n",
    "targets = torch.tensor([1, 0, 4])\n",
    "\n",
    "loss_fn = nn.NLLLoss()\n",
    "\n",
    "loss = loss_fn(inputs, targets)\n",
    "print(f\"- Loss: {loss}\")"
   ]
  },
  {
   "cell_type": "markdown",
   "id": "921a9101-7ba5-4a79-9204-d23a32655399",
   "metadata": {},
   "source": [
    "## Smooth L1"
   ]
  },
  {
   "cell_type": "code",
   "execution_count": 19,
   "id": "5ff74383-b031-4552-bfbd-ed30b29aaaf1",
   "metadata": {},
   "outputs": [
    {
     "name": "stdout",
     "output_type": "stream",
     "text": [
      "- Loss: 0.3753202557563782\n"
     ]
    }
   ],
   "source": [
    "inputs = torch.randn(3, 5, requires_grad=True)\n",
    "targets = torch.randn(3, 5)\n",
    "\n",
    "loss_fn = nn.SmoothL1Loss()\n",
    "\n",
    "loss = loss_fn(inputs, targets)\n",
    "print(f\"- Loss: {loss}\")"
   ]
  },
  {
   "cell_type": "markdown",
   "id": "272447b1-2a1c-49a2-b007-0523151f7abf",
   "metadata": {},
   "source": [
    "## Custom Loss"
   ]
  },
  {
   "cell_type": "code",
   "execution_count": 23,
   "id": "ad3ea7bb-3b84-4883-8ced-1f2e8afbd4af",
   "metadata": {},
   "outputs": [],
   "source": [
    "class CustomLoss(nn.Module):\n",
    "    def __init__(self):\n",
    "        super(CustomLoss, self).__init__()\n",
    "\n",
    "    def forward(self, inputs, targets):\n",
    "        loss = torch.mean((inputs - targets) ** 2)\n",
    "        return loss"
   ]
  },
  {
   "cell_type": "code",
   "execution_count": 24,
   "id": "d010f1db-54a4-4f65-b47d-4130abf63337",
   "metadata": {},
   "outputs": [
    {
     "name": "stdout",
     "output_type": "stream",
     "text": [
      "- Loss: 0.8167296051979065\n"
     ]
    }
   ],
   "source": [
    "inputs = torch.randn(3, 5, requires_grad=True)\n",
    "targets = torch.randn(3, 5)\n",
    "\n",
    "loss_fn = CustomLoss()\n",
    "\n",
    "loss = loss_fn(inputs, targets)\n",
    "print(f\"- Loss: {loss}\")"
   ]
  },
  {
   "cell_type": "code",
   "execution_count": null,
   "id": "9ef3a2e4-217e-4bf9-a187-7d495c533668",
   "metadata": {},
   "outputs": [],
   "source": []
  }
 ],
 "metadata": {
  "kernelspec": {
   "display_name": "pytorch-cuda",
   "language": "python",
   "name": "pytorch-cuda"
  },
  "language_info": {
   "codemirror_mode": {
    "name": "ipython",
    "version": 3
   },
   "file_extension": ".py",
   "mimetype": "text/x-python",
   "name": "python",
   "nbconvert_exporter": "python",
   "pygments_lexer": "ipython3",
   "version": "3.10.4"
  }
 },
 "nbformat": 4,
 "nbformat_minor": 5
}
