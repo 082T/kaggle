{
 "cells": [
  {
   "cell_type": "code",
   "execution_count": 1,
   "id": "4fb72991-0949-40d4-8e30-29928e0864b4",
   "metadata": {},
   "outputs": [],
   "source": [
    "import torch\n",
    "import torch.nn as nn"
   ]
  },
  {
   "cell_type": "code",
   "execution_count": 2,
   "id": "bcd3df46-512c-4c18-bd30-399875aa9580",
   "metadata": {},
   "outputs": [],
   "source": [
    "class LinearModel(nn.Module):\n",
    "    def __init__(self):\n",
    "        super(LinearModel, self).__init__()\n",
    "        self.layer1 = nn.Linear(10, 5)\n",
    "        self.layer2 = nn.Linear(5, 1)\n",
    "\n",
    "    def forward(self, x):\n",
    "        x = self.layer1(x)\n",
    "        x = torch.relu(x)\n",
    "        x = self.layer2(x)\n",
    "        return x"
   ]
  },
  {
   "cell_type": "markdown",
   "id": "028afc85-263c-4340-bb60-ea34dd6d2ab1",
   "metadata": {},
   "source": [
    "## Forward"
   ]
  },
  {
   "cell_type": "code",
   "execution_count": 3,
   "id": "399898b8-4a6d-4a99-989e-9f1816993ec7",
   "metadata": {},
   "outputs": [
    {
     "name": "stdout",
     "output_type": "stream",
     "text": [
      "- Output of the forward pass: \n",
      "tensor([[0.2456]], grad_fn=<AddmmBackward0>)\n"
     ]
    }
   ],
   "source": [
    "model = LinearModel()\n",
    "inputs = torch.randn(1, 10)\n",
    "outputs = model(inputs)\n",
    "print(f\"- Output of the forward pass: \\n{outputs}\")"
   ]
  },
  {
   "cell_type": "markdown",
   "id": "91e8e662-76bd-4b60-a85c-8ade5be8012b",
   "metadata": {},
   "source": [
    "## Backward pass and gradient output"
   ]
  },
  {
   "cell_type": "code",
   "execution_count": 4,
   "id": "4f3b73de-46fe-48ce-bdf8-dc0c6325f63a",
   "metadata": {},
   "outputs": [
    {
     "name": "stdout",
     "output_type": "stream",
     "text": [
      "Loss: 0.011812232434749603\n",
      "- Gradients for layer1.weight: tensor([[-0.0000, -0.0000,  0.0000, -0.0000,  0.0000,  0.0000,  0.0000,  0.0000,\n",
      "          0.0000, -0.0000],\n",
      "        [ 0.0501,  0.0100, -0.0108,  0.0524, -0.0248, -0.0391, -0.0633, -0.0301,\n",
      "         -0.0313,  0.0061],\n",
      "        [-0.0000, -0.0000,  0.0000, -0.0000,  0.0000,  0.0000,  0.0000,  0.0000,\n",
      "          0.0000, -0.0000],\n",
      "        [-0.0000, -0.0000,  0.0000, -0.0000,  0.0000,  0.0000,  0.0000,  0.0000,\n",
      "          0.0000, -0.0000],\n",
      "        [-0.0000, -0.0000,  0.0000, -0.0000,  0.0000,  0.0000,  0.0000,  0.0000,\n",
      "          0.0000, -0.0000]])\n",
      "- Gradients for layer1.bias: tensor([ 0.0000, -0.0471,  0.0000,  0.0000,  0.0000])\n",
      "- Gradients for layer2.weight: tensor([[ 0.0000, -0.1929,  0.0000,  0.0000,  0.0000]])\n",
      "- Gradients for layer2.bias: tensor([-0.2174])\n"
     ]
    }
   ],
   "source": [
    "criterion = nn.MSELoss()\n",
    "targets = torch.randn(1, 1)\n",
    "loss = criterion(outputs, targets)\n",
    "\n",
    "print(f\"Loss: {loss.item()}\")\n",
    "\n",
    "loss.backward()\n",
    "\n",
    "for name, param in model.named_parameters():\n",
    "    if param.requires_grad:\n",
    "        print(f\"- Gradients for {name}: {param.grad}\")"
   ]
  },
  {
   "cell_type": "markdown",
   "id": "38642252-e230-42fd-b1c6-37cddc57f0ee",
   "metadata": {},
   "source": [
    "## Custom passes"
   ]
  },
  {
   "cell_type": "code",
   "execution_count": 5,
   "id": "69fa7548-e018-4154-9e47-8b37c03ff7df",
   "metadata": {},
   "outputs": [],
   "source": [
    "class CustomPass(torch.autograd.Function):\n",
    "    @staticmethod\n",
    "    def forward(ctx, input):\n",
    "        ctx.save_for_backward(input)\n",
    "        return input * input\n",
    "\n",
    "    @staticmethod\n",
    "    def backward(ctx, grad_output):\n",
    "        input, = ctx.saved_tensors\n",
    "        grad_input = grad_output * 2 * input\n",
    "        return grad_input"
   ]
  },
  {
   "cell_type": "code",
   "execution_count": 6,
   "id": "b7464dc8-a389-4633-adce-b25e0b097f81",
   "metadata": {},
   "outputs": [
    {
     "name": "stdout",
     "output_type": "stream",
     "text": [
      "- Input: tensor([[-0.2777, -1.5277,  0.9146]], requires_grad=True)\n",
      "- Output of the custom forward pass: tensor([[0.0771, 2.3340, 0.8365]], grad_fn=<CustomPassBackward>)\n",
      "- Gradients for custom function input: tensor([[-0.5553, -3.0555,  1.8292]])\n"
     ]
    }
   ],
   "source": [
    "input = torch.randn(1, 3, requires_grad=True)\n",
    "print(f\"- Input: {input}\")\n",
    "\n",
    "output = CustomPass.apply(input)\n",
    "print(f\"- Output of the custom forward pass: {output}\")\n",
    "\n",
    "loss = output.sum()\n",
    "loss.backward()\n",
    "print(f\"- Gradients for custom function input: {input.grad}\")"
   ]
  },
  {
   "cell_type": "markdown",
   "id": "b0b19319-a30b-4ec8-b5fe-86111594eab7",
   "metadata": {},
   "source": [
    "## Computational graph"
   ]
  },
  {
   "cell_type": "code",
   "execution_count": 14,
   "id": "d78597f3-b469-45da-8c68-f7030a76c78a",
   "metadata": {},
   "outputs": [],
   "source": [
    "from torchviz import make_dot\n",
    "from IPython.display import Image, display\n",
    "from torchsummary import summary"
   ]
  },
  {
   "cell_type": "code",
   "execution_count": 17,
   "id": "48ab8219-ee4e-40d8-a18d-0b90d67bb856",
   "metadata": {},
   "outputs": [
    {
     "name": "stdout",
     "output_type": "stream",
     "text": [
      "Using device: cuda\n"
     ]
    },
    {
     "data": {
      "image/png": "[encoded data removed]",
      "text/plain": [
       "<IPython.core.display.Image object>"
      ]
     },
     "metadata": {},
     "output_type": "display_data"
    }
   ],
   "source": [
    "device = torch.device('cuda' if torch.cuda.is_available() else 'cpu')\n",
    "print(f'Using device: {device}')\n",
    "\n",
    "model = LinearModel().to(device)\n",
    "\n",
    "inputs = torch.randn(1, 10).to(device)\n",
    "outputs = model(inputs)\n",
    "\n",
    "dot = make_dot(outputs, params=dict(model.named_parameters()))\n",
    "dot.render(\"computational_graph\", format=\"png\")\n",
    "display(Image(filename=\"computational_graph.png\"))"
   ]
  },
  {
   "cell_type": "code",
   "execution_count": 18,
   "id": "b8f9cff1-5dee-4257-a6e8-abe764ac9dbb",
   "metadata": {},
   "outputs": [
    {
     "name": "stdout",
     "output_type": "stream",
     "text": [
      "----------------------------------------------------------------\n",
      "        Layer (type)               Output Shape         Param #\n",
      "================================================================\n",
      "            Linear-1                 [-1, 1, 5]              55\n",
      "            Linear-2                 [-1, 1, 1]               6\n",
      "================================================================\n",
      "Total params: 61\n",
      "Trainable params: 61\n",
      "Non-trainable params: 0\n",
      "----------------------------------------------------------------\n",
      "Input size (MB): 0.00\n",
      "Forward/backward pass size (MB): 0.00\n",
      "Params size (MB): 0.00\n",
      "Estimated Total Size (MB): 0.00\n",
      "----------------------------------------------------------------\n",
      "LinearModel(\n",
      "  (layer1): Linear(in_features=10, out_features=5, bias=True)\n",
      "  (layer2): Linear(in_features=5, out_features=1, bias=True)\n",
      ")\n"
     ]
    }
   ],
   "source": [
    "from torchsummary import summary\n",
    "summary(model, input_size=(1, 10))\n",
    "\n",
    "print(model)"
   ]
  },
  {
   "cell_type": "code",
   "execution_count": null,
   "id": "a3d3e948-3803-4079-b536-b78c90ca4ab8",
   "metadata": {},
   "outputs": [],
   "source": []
  }
 ],
 "metadata": {
  "kernelspec": {
   "display_name": "pytorch-cuda",
   "language": "python",
   "name": "pytorch-cuda"
  },
  "language_info": {
   "codemirror_mode": {
    "name": "ipython",
    "version": 3
   },
   "file_extension": ".py",
   "mimetype": "text/x-python",
   "name": "python",
   "nbconvert_exporter": "python",
   "pygments_lexer": "ipython3",
   "version": "3.10.4"
  }
 },
 "nbformat": 4,
 "nbformat_minor": 5
}
