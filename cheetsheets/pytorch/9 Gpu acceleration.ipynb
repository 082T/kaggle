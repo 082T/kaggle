{
 "cells": [
  {
   "cell_type": "code",
   "execution_count": 1,
   "id": "602669ba-0a8d-4f62-9360-25cc3c7a8bc1",
   "metadata": {},
   "outputs": [],
   "source": [
    "import torch\n",
    "import torch.nn as nn\n",
    "from torchsummary import summary"
   ]
  },
  {
   "cell_type": "markdown",
   "id": "116795f5-a0ac-42e6-aca8-ace231c6fbb4",
   "metadata": {},
   "source": [
    "## Move to GPU"
   ]
  },
  {
   "cell_type": "code",
   "execution_count": 2,
   "id": "1b72b76c-b163-4cbb-a7e3-2e498d1a9ded",
   "metadata": {},
   "outputs": [
    {
     "name": "stdout",
     "output_type": "stream",
     "text": [
      "GPU available\n"
     ]
    }
   ],
   "source": [
    "if torch.cuda.is_available():\n",
    "    print(\"GPU available\")\n",
    "else:\n",
    "    print(\"GPU unavailable\")"
   ]
  },
  {
   "cell_type": "code",
   "execution_count": 3,
   "id": "560f3b59-d980-4d37-b10a-0a6cc6de4748",
   "metadata": {},
   "outputs": [],
   "source": [
    "tensor = torch.tensor([1.0, 2.0, 3.0])\n",
    "if torch.cuda.is_available:\n",
    "    tensor = tensor.to(\"cuda\")\n",
    "\n",
    "model = nn.Linear(10, 2)\n",
    "if torch.cuda.is_available:\n",
    "    model = model.to(\"cuda\")"
   ]
  },
  {
   "cell_type": "code",
   "execution_count": 4,
   "id": "f6edd9c0-b0fc-4f83-aea0-88094b3578fa",
   "metadata": {},
   "outputs": [],
   "source": [
    "tensor = tensor.to(\"cpu\")\n",
    "model = model.to(\"cpu\")"
   ]
  },
  {
   "cell_type": "markdown",
   "id": "1d0d7b9e-bbdd-4064-94a2-9b38f9536839",
   "metadata": {},
   "source": [
    "## Multi-GPU training"
   ]
  },
  {
   "cell_type": "code",
   "execution_count": 5,
   "id": "30c9f04a-e3ee-420e-8db7-ad199f469a80",
   "metadata": {},
   "outputs": [],
   "source": [
    "model = nn.Linear(10, 2)\n",
    "\n",
    "if torch.cuda.is_available():\n",
    "    model = model.to(\"cuda\")\n",
    "\n",
    "if torch.cuda.device_count() > 1:\n",
    "    model = nn.DataParallel(model)"
   ]
  },
  {
   "cell_type": "markdown",
   "id": "9b13e2aa-e4e1-415e-9638-954ca2bec20a",
   "metadata": {},
   "source": [
    "## DistributedDataParallel"
   ]
  },
  {
   "cell_type": "code",
   "execution_count": 6,
   "id": "1855c19e-7ee4-4064-93b4-09fb3c35f407",
   "metadata": {},
   "outputs": [],
   "source": [
    "# set up env variables first\n",
    "# dist.init_process_group(backend=\"nccl\")\n",
    "# model = nn.Linear(10, 2).to(\"cuda\")\n",
    "# \n",
    "# model = parallel.DistributedDataParallel(model)\n",
    "# optimizer = optim.SGD(model.parameters(), lr=0.01)\n",
    "# \n",
    "# for epoch in range(1, 11):\n",
    "#     optimizer.zero_grad()\n",
    "#     outputs = model(torch.randn(64, 10).to(\"cuda\")\n",
    "#     labels = torch.randn(64, 2).to(\"cuda\")\n",
    "#     loss = nn.MSELoss()(outputs, labels)\n",
    "#     loss.backward()\n",
    "#     optimizer.step()"
   ]
  },
  {
   "cell_type": "markdown",
   "id": "2052065f-5708-4599-9020-d6658b586473",
   "metadata": {},
   "source": [
    "## Memory usage"
   ]
  },
  {
   "cell_type": "code",
   "execution_count": 7,
   "id": "1eb68f6a-1606-4a88-a634-cf73fcdce680",
   "metadata": {},
   "outputs": [
    {
     "name": "stdout",
     "output_type": "stream",
     "text": [
      "1024\n",
      "2097152\n"
     ]
    }
   ],
   "source": [
    "print(torch.cuda.memory_allocated())\n",
    "print(torch.cuda.memory_reserved())"
   ]
  },
  {
   "cell_type": "code",
   "execution_count": 13,
   "id": "0a46cea4-0bec-492a-bd53-eeb83cccfc82",
   "metadata": {},
   "outputs": [],
   "source": [
    "torch.cuda.empty_cache()"
   ]
  },
  {
   "cell_type": "code",
   "execution_count": null,
   "id": "f92f9f2b-e2a2-45bf-82ff-f014f723cb78",
   "metadata": {},
   "outputs": [],
   "source": []
  }
 ],
 "metadata": {
  "kernelspec": {
   "display_name": "pytorch-cuda",
   "language": "python",
   "name": "pytorch-cuda"
  },
  "language_info": {
   "codemirror_mode": {
    "name": "ipython",
    "version": 3
   },
   "file_extension": ".py",
   "mimetype": "text/x-python",
   "name": "python",
   "nbconvert_exporter": "python",
   "pygments_lexer": "ipython3",
   "version": "3.10.4"
  }
 },
 "nbformat": 4,
 "nbformat_minor": 5
}
