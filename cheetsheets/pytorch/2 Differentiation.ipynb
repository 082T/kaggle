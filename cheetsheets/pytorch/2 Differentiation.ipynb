{
 "cells": [
  {
   "cell_type": "code",
   "execution_count": 28,
   "id": "a184168f-d789-43d0-abf9-8ededeabf155",
   "metadata": {},
   "outputs": [],
   "source": [
    "import torch"
   ]
  },
  {
   "cell_type": "markdown",
   "id": "3c32d2de-55a1-4258-a463-124a02eb59fd",
   "metadata": {},
   "source": [
    "## Track computation"
   ]
  },
  {
   "cell_type": "code",
   "execution_count": 29,
   "id": "2e732280-f633-4b63-b1de-89ca19cab2dd",
   "metadata": {},
   "outputs": [
    {
     "name": "stdout",
     "output_type": "stream",
     "text": [
      "- x: \n",
      "tensor([1., 2., 3.], requires_grad=True)\n",
      "- z: \n",
      "tensor([18., 32., 50.], grad_fn=<MulBackward0>)\n",
      "- z_mean: \n",
      "33.33333206176758\n"
     ]
    }
   ],
   "source": [
    "x = torch.tensor([1.0, 2.0, 3.0], requires_grad=True)\n",
    "print(f\"- x: \\n{x}\")\n",
    "\n",
    "y = x + 2\n",
    "z = y * y * 2\n",
    "z_mean = z.mean()\n",
    "\n",
    "print(f\"- z: \\n{z}\")\n",
    "print(f\"- z_mean: \\n{z_mean}\")"
   ]
  },
  {
   "cell_type": "code",
   "execution_count": 30,
   "id": "af43c470-f436-44fa-807a-225c90fa90f7",
   "metadata": {},
   "outputs": [
    {
     "name": "stdout",
     "output_type": "stream",
     "text": [
      "- Gradients of x: \n",
      "tensor([4.0000, 5.3333, 6.6667])\n"
     ]
    }
   ],
   "source": [
    "z_mean.backward()\n",
    "print(f\"- Gradients of x: \\n{x.grad}\")"
   ]
  },
  {
   "cell_type": "code",
   "execution_count": 41,
   "id": "2779cbfb-efdd-4948-a290-e0c4f003c81a",
   "metadata": {},
   "outputs": [
    {
     "name": "stdout",
     "output_type": "stream",
     "text": [
      "- Gradients of a: \n",
      "tensor([[3., 4.],\n",
      "        [5., 6.]])\n",
      "- Gradients of b: \n",
      "tensor([[3., 4.],\n",
      "        [5., 6.]])\n"
     ]
    }
   ],
   "source": [
    "a = torch.tensor([[1.0, 2.0], [3.0, 4.0]], requires_grad=True)\n",
    "b = torch.tensor([[5.0, 6.0], [7.0, 8.0]], requires_grad=True)\n",
    "\n",
    "c = ((a + b) ** 2).mean()\n",
    "c.backward()\n",
    "\n",
    "print(f\"- Gradients of a: \\n{a.grad}\")\n",
    "print(f\"- Gradients of b: \\n{b.grad}\")"
   ]
  },
  {
   "cell_type": "markdown",
   "id": "4ef59841-b104-487c-9de9-003ea43d9e0c",
   "metadata": {},
   "source": [
    "## Skip gradient calculation"
   ]
  },
  {
   "cell_type": "code",
   "execution_count": 45,
   "id": "b45b48c2-1b1f-43db-81fb-e9b91dd638ea",
   "metadata": {},
   "outputs": [
    {
     "name": "stdout",
     "output_type": "stream",
     "text": [
      "- Gradients of a: \n",
      "None\n",
      "- Gradients of b: \n",
      "None\n"
     ]
    }
   ],
   "source": [
    "a = torch.tensor([[1.0, 2.0], [3.0, 4.0]], requires_grad=True)\n",
    "b = torch.tensor([[5.0, 6.0], [7.0, 8.0]], requires_grad=True)\n",
    "y_nograd = y.detach()\n",
    "\n",
    "with torch.no_grad():\n",
    "    c = ((a + b) ** 2).mean()\n",
    "\n",
    "print(f\"- Gradients of a: \\n{a.grad}\")\n",
    "print(f\"- Gradients of b: \\n{b.grad}\")"
   ]
  },
  {
   "cell_type": "markdown",
   "id": "dc8fcff2-e891-4eab-a82f-f8dfc800fac2",
   "metadata": {},
   "source": [
    "## Zeroing gradients"
   ]
  },
  {
   "cell_type": "code",
   "execution_count": 46,
   "id": "8ca9c5b6-6184-4d85-9b6b-c647c2b38970",
   "metadata": {},
   "outputs": [
    {
     "name": "stdout",
     "output_type": "stream",
     "text": [
      "Gradients before zeroing: tensor([4.0000, 5.3333, 6.6667])\n",
      "Gradients after zeroing: tensor([0., 0., 0.])\n"
     ]
    }
   ],
   "source": [
    "x = torch.tensor([1.0, 2.0, 3.0], requires_grad=True)\n",
    "\n",
    "y = ((x + 2) ** 2 * 2).mean()\n",
    "y.backward()\n",
    "\n",
    "print(\"Gradients before zeroing:\", x.grad)\n",
    "\n",
    "x.grad.zero_()\n",
    "print(\"Gradients after zeroing:\", x.grad)"
   ]
  },
  {
   "cell_type": "code",
   "execution_count": null,
   "id": "4c194aba-15a8-4f66-95fa-1edece7ebf8c",
   "metadata": {},
   "outputs": [],
   "source": []
  }
 ],
 "metadata": {
  "kernelspec": {
   "display_name": "pytorch-cuda",
   "language": "python",
   "name": "pytorch-cuda"
  },
  "language_info": {
   "codemirror_mode": {
    "name": "ipython",
    "version": 3
   },
   "file_extension": ".py",
   "mimetype": "text/x-python",
   "name": "python",
   "nbconvert_exporter": "python",
   "pygments_lexer": "ipython3",
   "version": "3.10.4"
  }
 },
 "nbformat": 4,
 "nbformat_minor": 5
}
