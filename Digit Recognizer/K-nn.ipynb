{
 "cells": [
  {
   "cell_type": "code",
   "execution_count": 1,
   "metadata": {},
   "outputs": [],
   "source": [
    "import numpy as np\n",
    "import pandas as pd\n",
    "import scipy.special\n",
    "import matplotlib.pyplot as plt\n",
    "\n",
    "from sklearn.neighbors import KNeighborsClassifier"
   ]
  },
  {
   "cell_type": "code",
   "execution_count": 2,
   "metadata": {},
   "outputs": [],
   "source": [
    "train_data = pd.read_csv('digit-recognizer/train.csv')\n",
    "test_data = pd.read_csv('digit-recognizer/test.csv')\n",
    "sample_submission = pd.read_csv('digit-recognizer/sample_submission.csv')"
   ]
  },
  {
   "cell_type": "code",
   "execution_count": 3,
   "metadata": {},
   "outputs": [],
   "source": [
    "labels = train_data['label']\n",
    "train_data_without_labels = train_data.drop('label', axis = 1)"
   ]
  },
  {
   "cell_type": "code",
   "execution_count": 4,
   "metadata": {},
   "outputs": [],
   "source": [
    "neigh = KNeighborsClassifier(n_neighbors=5, weights = 'distance')\n",
    "neigh.fit(train_data_without_labels, labels)\n",
    "\n",
    "submission_data = []\n",
    "\n",
    "for i in range(0, len(test_data.index)):\n",
    "    prediction = neigh.predict(test_data.loc[[i]])[0]\n",
    "    submission_data.append([i+1, prediction])"
   ]
  },
  {
   "cell_type": "code",
   "execution_count": 5,
   "metadata": {},
   "outputs": [],
   "source": [
    "submit_knn = pd.DataFrame(submission_data)\n",
    "submit_knn = submit_knn.rename(columns={0: \"ImageId\", 1: \"Label\"})\n",
    "\n",
    "submit_knn.to_csv(\"submit_knn.csv\", index=False)"
   ]
  }
 ],
 "metadata": {
  "kernelspec": {
   "display_name": "kegglefirst",
   "language": "python",
   "name": "kegglefirst"
  },
  "language_info": {
   "codemirror_mode": {
    "name": "ipython",
    "version": 3
   },
   "file_extension": ".py",
   "mimetype": "text/x-python",
   "name": "python",
   "nbconvert_exporter": "python",
   "pygments_lexer": "ipython3",
   "version": "3.6.10"
  }
 },
 "nbformat": 4,
 "nbformat_minor": 4
}
