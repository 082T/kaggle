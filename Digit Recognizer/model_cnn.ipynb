{
 "cells": [
  {
   "cell_type": "code",
   "execution_count": 1,
   "metadata": {},
   "outputs": [],
   "source": [
    "import numpy as np\n",
    "import pandas as pd\n",
    "import matplotlib.pyplot as plt\n",
    "\n",
    "\n",
    "from sklearn.preprocessing import StandardScaler\n",
    "from sklearn.preprocessing import OneHotEncoder\n",
    "from sklearn.model_selection import train_test_split\n",
    "\n",
    "from tensorflow import keras\n",
    "from tensorflow.keras import layers\n",
    "from tensorflow.keras.callbacks import ModelCheckpoint\n",
    "from tensorflow.keras.models import load_model"
   ]
  },
  {
   "cell_type": "code",
   "execution_count": 2,
   "metadata": {},
   "outputs": [],
   "source": [
    "train_data = pd.read_csv('digit-recognizer/train.csv')\n",
    "test_data = pd.read_csv('digit-recognizer/test.csv')\n",
    "sample_submission = pd.read_csv('digit-recognizer/sample_submission.csv')\n",
    "\n",
    "sc = StandardScaler()\n",
    "ohe = OneHotEncoder()\n",
    "\n",
    "test_data = np.asfarray(test_data).reshape(len(test_data),28,28,1)\n",
    "train_data_without_labels = sc.fit_transform(train_data.iloc[:,1:].values)\n",
    "labels = ohe.fit_transform(train_data.iloc[:,0:1].values).toarray()\n",
    "\n",
    "data_train, data_val, label_train, label_val = train_test_split(train_data_without_labels, labels, test_size = 0.3)\n",
    "\n",
    "data_train = np.asfarray(data_train).reshape(len(data_train),28,28,1)\n",
    "data_val = np.asfarray(data_val).reshape(len(data_val),28,28,1)"
   ]
  },
  {
   "cell_type": "code",
   "execution_count": 3,
   "metadata": {},
   "outputs": [],
   "source": [
    "class DigitModel(keras.Model):\n",
    "    def __init__(self):\n",
    "        \n",
    "        super().__init__()\n",
    "        self.conv1 = layers.Conv2D(64, 3, activation='relu', padding='same')\n",
    "        self.conv2 = layers.Conv2D(64, 3, activation='relu')\n",
    "        self.maxpool1 = layers.MaxPooling2D(2,2)\n",
    "        self.dense1 = layers.Dense(65, activation='relu')\n",
    "        self.conv3 = layers.Conv2D(64, (3,3), activation='relu')\n",
    "        self.maxpool2 = layers.MaxPooling2D(2,2)\n",
    "        self.flatten1 = layers.Flatten(input_shape=(data_train.shape[1:]))\n",
    "        self.dense2 = layers.Dense(128, activation='relu')\n",
    "        self.dense3 = layers.Dense(256, activation='relu')\n",
    "        self.dense4 = layers.Dense(512, activation='relu')\n",
    "        self.dense5 = layers.Dense(10, activation='softmax')\n",
    "        \n",
    "    def call(self, inputs):\n",
    "        \n",
    "        x1 = self.conv1(inputs)\n",
    "        x2 = self.conv2(x1)\n",
    "        x3 = self.maxpool1(x2)\n",
    "        x4 = self.dense1(x3)\n",
    "        x5 = self.conv3(x4)\n",
    "        x6 = self.maxpool2(x5)\n",
    "        x7 = self.flatten1(x6)\n",
    "        x8 = self.dense2(x7)\n",
    "        x9 = self.dense3(x8)\n",
    "        x10 = self.dense4(x9)\n",
    "        x11 = self.dense5(x10)\n",
    "        \n",
    "        return x11\n"
   ]
  },
  {
   "cell_type": "code",
   "execution_count": 4,
   "metadata": {},
   "outputs": [],
   "source": [
    "model = DigitModel()\n",
    "model.compile(loss='categorical_crossentropy', optimizer='adam', metrics=['accuracy'])"
   ]
  },
  {
   "cell_type": "code",
   "execution_count": 5,
   "metadata": {},
   "outputs": [],
   "source": [
    "filepath = 'best_model.tf'\n",
    "\n",
    "checkpoint = ModelCheckpoint(\n",
    "    filepath=filepath,\n",
    "    monitor='val_accuracy',\n",
    "    verbose=1,\n",
    "    save_best_only=True,\n",
    "    mode='max'\n",
    ")\n",
    "\n",
    "callbacks = [checkpoint]"
   ]
  },
  {
   "cell_type": "code",
   "execution_count": 6,
   "metadata": {},
   "outputs": [
    {
     "name": "stdout",
     "output_type": "stream",
     "text": [
      "Epoch 1/10\n",
      "460/460 [==============================] - 52s 111ms/step - loss: 0.2183 - accuracy: 0.9303 - val_loss: 0.0814 - val_accuracy: 0.9763\n",
      "\n",
      "Epoch 00001: val_accuracy improved from -inf to 0.97635, saving model to best_model.tf\n",
      "INFO:tensorflow:Assets written to: best_model.tf\\assets\n",
      "Epoch 2/10\n",
      "460/460 [==============================] - 50s 108ms/step - loss: 0.0574 - accuracy: 0.9824 - val_loss: 0.0652 - val_accuracy: 0.9804\n",
      "\n",
      "Epoch 00002: val_accuracy improved from 0.97635 to 0.98040, saving model to best_model.tf\n",
      "INFO:tensorflow:Assets written to: best_model.tf\\assets\n",
      "Epoch 3/10\n",
      "460/460 [==============================] - 52s 113ms/step - loss: 0.0396 - accuracy: 0.9879 - val_loss: 0.0742 - val_accuracy: 0.9795\n",
      "\n",
      "Epoch 00003: val_accuracy did not improve from 0.98040\n",
      "Epoch 4/10\n",
      "460/460 [==============================] - 50s 109ms/step - loss: 0.0299 - accuracy: 0.9907 - val_loss: 0.0530 - val_accuracy: 0.9867\n",
      "\n",
      "Epoch 00004: val_accuracy improved from 0.98040 to 0.98675, saving model to best_model.tf\n",
      "INFO:tensorflow:Assets written to: best_model.tf\\assets\n",
      "Epoch 5/10\n",
      "460/460 [==============================] - 51s 110ms/step - loss: 0.0263 - accuracy: 0.9920 - val_loss: 0.0567 - val_accuracy: 0.9835\n",
      "\n",
      "Epoch 00005: val_accuracy did not improve from 0.98675\n",
      "Epoch 6/10\n",
      "460/460 [==============================] - 51s 112ms/step - loss: 0.0207 - accuracy: 0.9935 - val_loss: 0.0834 - val_accuracy: 0.9781\n",
      "\n",
      "Epoch 00006: val_accuracy did not improve from 0.98675\n",
      "Epoch 7/10\n",
      "460/460 [==============================] - 48s 104ms/step - loss: 0.0204 - accuracy: 0.9937 - val_loss: 0.0499 - val_accuracy: 0.9879\n",
      "\n",
      "Epoch 00007: val_accuracy improved from 0.98675 to 0.98794, saving model to best_model.tf\n",
      "INFO:tensorflow:Assets written to: best_model.tf\\assets\n",
      "Epoch 8/10\n",
      "460/460 [==============================] - 50s 108ms/step - loss: 0.0158 - accuracy: 0.9954 - val_loss: 0.0595 - val_accuracy: 0.9854\n",
      "\n",
      "Epoch 00008: val_accuracy did not improve from 0.98794\n",
      "Epoch 9/10\n",
      "460/460 [==============================] - 48s 105ms/step - loss: 0.0187 - accuracy: 0.9948 - val_loss: 0.0500 - val_accuracy: 0.9882\n",
      "\n",
      "Epoch 00009: val_accuracy improved from 0.98794 to 0.98817, saving model to best_model.tf\n",
      "INFO:tensorflow:Assets written to: best_model.tf\\assets\n",
      "Epoch 10/10\n",
      "460/460 [==============================] - 49s 106ms/step - loss: 0.0151 - accuracy: 0.9952 - val_loss: 0.0534 - val_accuracy: 0.9879\n",
      "\n",
      "Epoch 00010: val_accuracy did not improve from 0.98817\n"
     ]
    }
   ],
   "source": [
    "history = model.fit(\n",
    "    data_train, \n",
    "    label_train, \n",
    "    validation_data = (data_val, label_val), \n",
    "    epochs=10, \n",
    "    batch_size=64,\n",
    "    callbacks=callbacks\n",
    ")"
   ]
  },
  {
   "cell_type": "code",
   "execution_count": 7,
   "metadata": {},
   "outputs": [
    {
     "data": {
      "image/png": "[encoded data removed]",
      "text/plain": [
       "<Figure size 432x288 with 1 Axes>"
      ]
     },
     "metadata": {
      "needs_background": "light"
     },
     "output_type": "display_data"
    }
   ],
   "source": [
    "plt.plot(history.history['accuracy'])\n",
    "plt.plot(history.history['val_accuracy'])\n",
    "plt.title('Model accuracy')\n",
    "plt.ylabel('Accuracy')\n",
    "plt.xlabel('Epoch')\n",
    "plt.legend(['Train', 'Test'], loc='lower right')\n",
    "plt.show()"
   ]
  },
  {
   "cell_type": "code",
   "execution_count": 8,
   "metadata": {},
   "outputs": [
    {
     "data": {
      "image/png": "[encoded data removed]",
      "text/plain": [
       "<Figure size 432x288 with 1 Axes>"
      ]
     },
     "metadata": {
      "needs_background": "light"
     },
     "output_type": "display_data"
    }
   ],
   "source": [
    "plt.plot(history.history['loss']) \n",
    "plt.plot(history.history['val_loss']) \n",
    "plt.title('Model loss') \n",
    "plt.ylabel('Loss') \n",
    "plt.xlabel('Epoch') \n",
    "plt.legend(['Train', 'Test'], loc='upper right') \n",
    "plt.show()"
   ]
  },
  {
   "cell_type": "code",
   "execution_count": 9,
   "metadata": {},
   "outputs": [],
   "source": [
    "best_model = load_model(filepath)"
   ]
  },
  {
   "cell_type": "code",
   "execution_count": 10,
   "metadata": {},
   "outputs": [],
   "source": [
    "test_data_pred = model.predict(test_data)\n",
    "\n",
    "pred = list()\n",
    "\n",
    "for i in range(len(test_data_pred)):\n",
    "    pred.append(np.argmax(test_data_pred[i]))\n",
    "    \n",
    "submission_data = []\n",
    "\n",
    "for i in range(0, len(pred)):\n",
    "    submission_data.append([i+1, pred[i]])"
   ]
  },
  {
   "cell_type": "code",
   "execution_count": 11,
   "metadata": {},
   "outputs": [],
   "source": [
    "submit_net = pd.DataFrame(submission_data)\n",
    "submit_net = submit_net.rename(columns={0: \"ImageId\", 1: \"Label\"})\n",
    "\n",
    "submit_net.to_csv(\"submit_model_class.csv\", index=False)"
   ]
  },
  {
   "cell_type": "code",
   "execution_count": null,
   "metadata": {},
   "outputs": [],
   "source": []
  }
 ],
 "metadata": {
  "kernelspec": {
   "display_name": "kegglefirst",
   "language": "python",
   "name": "kegglefirst"
  },
  "language_info": {
   "codemirror_mode": {
    "name": "ipython",
    "version": 3
   },
   "file_extension": ".py",
   "mimetype": "text/x-python",
   "name": "python",
   "nbconvert_exporter": "python",
   "pygments_lexer": "ipython3",
   "version": "3.6.10"
  }
 },
 "nbformat": 4,
 "nbformat_minor": 4
}
