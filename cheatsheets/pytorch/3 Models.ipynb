{
 "cells": [
  {
   "cell_type": "code",
   "execution_count": 1,
   "id": "22226b4d-b5eb-4971-98b4-b2146b812f8b",
   "metadata": {},
   "outputs": [],
   "source": [
    "import torch\n",
    "import torch.nn as nn\n",
    "import torch.optim as optim"
   ]
  },
  {
   "cell_type": "markdown",
   "id": "8bae1f72-1065-4b6a-83c4-59bf0a424ea8",
   "metadata": {},
   "source": [
    "## Linear model"
   ]
  },
  {
   "cell_type": "code",
   "execution_count": 13,
   "id": "d6dbb9a1-6929-4053-83b4-7426d52a8ede",
   "metadata": {},
   "outputs": [],
   "source": [
    "class LinearModel(nn.Module):\n",
    "    def __init__(self, input_size, output_size):\n",
    "        super(LinearModel, self).__init__()\n",
    "        self.linear = nn.Linear(input_size, output_size)\n",
    "\n",
    "    def forward(self, x):\n",
    "        return self.linear(x)"
   ]
  },
  {
   "cell_type": "code",
   "execution_count": 14,
   "id": "937c7e45-89b8-4af3-901f-b7217cb18d76",
   "metadata": {},
   "outputs": [
    {
     "name": "stdout",
     "output_type": "stream",
     "text": [
      "Epoch 10, loss: 1.0078\n",
      "Epoch 20, loss: 0.9642\n",
      "Epoch 30, loss: 0.9359\n",
      "Epoch 40, loss: 0.9174\n",
      "Epoch 50, loss: 0.9053\n",
      "Epoch 60, loss: 0.8973\n",
      "Epoch 70, loss: 0.8921\n",
      "Epoch 80, loss: 0.8886\n",
      "Epoch 90, loss: 0.8863\n",
      "Epoch 100, loss: 0.8847\n"
     ]
    }
   ],
   "source": [
    "input_size = 1\n",
    "output_size = 1\n",
    "model = LinearModel(input_size, output_size)\n",
    "criterion = nn.MSELoss()\n",
    "optimizer = optim.SGD(model.parameters(), lr=0.01)\n",
    "\n",
    "inputs = torch.randn(10, input_size)\n",
    "targets = torch.randn(10, output_size)\n",
    "\n",
    "for epoch in range(1, 101):\n",
    "    optimizer.zero_grad()\n",
    "    outputs = model(inputs)\n",
    "    loss = criterion(outputs, targets)\n",
    "    loss.backward()\n",
    "    optimizer.step()\n",
    "    if epoch % 10 == 0:\n",
    "        print(f\"Epoch {epoch}, loss: {loss.item():.4f}\")"
   ]
  },
  {
   "cell_type": "markdown",
   "id": "cfd81cea-e88f-4fed-a88c-ddbdb96298ba",
   "metadata": {},
   "source": [
    "## CNN"
   ]
  },
  {
   "cell_type": "code",
   "execution_count": 15,
   "id": "37c658a1-4f49-424d-9c96-4f94a005306e",
   "metadata": {},
   "outputs": [],
   "source": [
    "class ConvNet(nn.Module):\n",
    "    def __init__(self):\n",
    "        super(ConvNet, self).__init__()\n",
    "        self.conv = nn.Conv2d(in_channels=1, out_channels=32, kernel_size=3, stride=1, padding=1)\n",
    "        self.pool = nn.MaxPool2d(kernel_size=2, stride=2, padding=0)\n",
    "        self.fc = nn.Linear(32 * 14 * 14, 10)\n",
    "\n",
    "    def forward(self, x):\n",
    "        x = self.pool(torch.relu(self.conv(x)))\n",
    "        x = x.view(-1, 32 * 14 * 14)\n",
    "        x = self.fc(x)\n",
    "        return x"
   ]
  },
  {
   "cell_type": "code",
   "execution_count": 16,
   "id": "6db18029-c14c-421e-9f71-5986120bf021",
   "metadata": {},
   "outputs": [
    {
     "name": "stdout",
     "output_type": "stream",
     "text": [
      "Epoch 10, loss: 0.0576\n",
      "Epoch 20, loss: 0.0009\n",
      "Epoch 30, loss: 0.0003\n",
      "Epoch 40, loss: 0.0002\n",
      "Epoch 50, loss: 0.0001\n",
      "Epoch 60, loss: 0.0001\n",
      "Epoch 70, loss: 0.0001\n",
      "Epoch 80, loss: 0.0001\n",
      "Epoch 90, loss: 0.0001\n",
      "Epoch 100, loss: 0.0001\n"
     ]
    }
   ],
   "source": [
    "model = ConvNet()\n",
    "criterion = nn.CrossEntropyLoss()\n",
    "optimizer = optim.Adam(model.parameters(), lr=0.001)\n",
    "\n",
    "inputs = torch.randn(10, 1, 28, 28)\n",
    "targets = torch.randint(0, 10, (10,))\n",
    "\n",
    "for epoch in range(1, 101):\n",
    "    optimizer.zero_grad()\n",
    "    outputs = model(inputs)\n",
    "    loss = criterion(outputs, targets)\n",
    "    loss.backward()\n",
    "    optimizer.step()\n",
    "    if epoch % 10 == 0:\n",
    "        print(f\"Epoch {epoch}, loss: {loss.item():.4f}\")"
   ]
  },
  {
   "cell_type": "markdown",
   "id": "b219a610-d43b-49aa-af59-03238f0c5979",
   "metadata": {},
   "source": [
    "## RNN"
   ]
  },
  {
   "cell_type": "code",
   "execution_count": 18,
   "id": "3f11790c-ddbd-4c68-a567-2ad06adfc174",
   "metadata": {},
   "outputs": [],
   "source": [
    "class RecurrentNet(nn.Module):\n",
    "    def __init__(self, input_size, hidden_size, output_size):\n",
    "        super(RecurrentNet, self).__init__()\n",
    "        self.rnn = nn.RNN(input_size, hidden_size, batch_first=True)\n",
    "        self.fc = nn.Linear(hidden_size, output_size)\n",
    "\n",
    "    def forward(self, x):\n",
    "        h0 = torch.zeros(1, x.size(0), hidden_size)\n",
    "        out, hn = self.rnn(x, h0)\n",
    "        out = self.fc(out[:, -1, :])\n",
    "        return out"
   ]
  },
  {
   "cell_type": "code",
   "execution_count": 19,
   "id": "a743f8d2-63b8-40a7-83ee-ad34517615d8",
   "metadata": {},
   "outputs": [
    {
     "name": "stdout",
     "output_type": "stream",
     "text": [
      "Epoch 10, loss: 0.7876\n",
      "Epoch 20, loss: 0.5976\n",
      "Epoch 30, loss: 0.4260\n",
      "Epoch 40, loss: 0.2734\n",
      "Epoch 50, loss: 0.1510\n",
      "Epoch 60, loss: 0.0678\n",
      "Epoch 70, loss: 0.0221\n",
      "Epoch 80, loss: 0.0051\n",
      "Epoch 90, loss: 0.0010\n",
      "Epoch 100, loss: 0.0002\n"
     ]
    }
   ],
   "source": [
    "input_size = 10\n",
    "hidden_size = 20\n",
    "output_size = 1\n",
    "model = RecurrentNet(input_size, hidden_size, output_size)\n",
    "criterion = nn.MSELoss()\n",
    "optimizer = optim.Adam(model.parameters(), lr=0.001)\n",
    "\n",
    "inputs = torch.randn(10, 5, input_size)  # batch len, seq len, input size\n",
    "targets = torch.randn(10, output_size)\n",
    "\n",
    "for epoch in range(1, 101):\n",
    "    optimizer.zero_grad()\n",
    "    outputs = model(inputs)\n",
    "    loss = criterion(outputs, targets)\n",
    "    loss.backward()\n",
    "    optimizer.step()\n",
    "    if epoch % 10 == 0:\n",
    "        print(f\"Epoch {epoch}, loss: {loss.item():.4f}\")"
   ]
  },
  {
   "cell_type": "markdown",
   "id": "dee3b6fe-d024-44cb-b237-8957d60ede16",
   "metadata": {},
   "source": [
    "## Transformer"
   ]
  },
  {
   "cell_type": "code",
   "execution_count": 24,
   "id": "6093a743-2003-4f0f-a38a-4bf19e37a7c4",
   "metadata": {},
   "outputs": [],
   "source": [
    "class TransformerNet(nn.Module):\n",
    "    def __init__(self, input_dim, model_dim, num_heads, num_layers, output_dim):\n",
    "        super(TransformerNet, self).__init__()\n",
    "        self.embedding = nn.Embedding(input_dim, model_dim)\n",
    "        self.transformer = nn.Transformer(d_model=model_dim, nhead=num_heads, num_encoder_layers=num_layers, num_decoder_layers=num_layers)\n",
    "        self.fc = nn.Linear(model_dim, output_dim)\n",
    "\n",
    "    def forward(self, src, tgt):\n",
    "        src = self.embedding(src)\n",
    "        tgt = self.embedding(tgt)\n",
    "        src = src.permute(1, 0, 2)\n",
    "        tgt = tgt.permute(1, 0, 2)\n",
    "        out = self.transformer(src, tgt)\n",
    "        out = self.fc(out)\n",
    "        return out"
   ]
  },
  {
   "cell_type": "code",
   "execution_count": 25,
   "id": "7897953b-7692-4f38-bc7f-a64c09bf4382",
   "metadata": {},
   "outputs": [
    {
     "name": "stdout",
     "output_type": "stream",
     "text": [
      "Epoch 10, loss: 4.7856\n",
      "Epoch 20, loss: 4.2999\n",
      "Epoch 30, loss: 4.2458\n",
      "Epoch 40, loss: 4.2265\n",
      "Epoch 50, loss: 5.2620\n",
      "Epoch 60, loss: 5.5897\n",
      "Epoch 70, loss: 5.2382\n",
      "Epoch 80, loss: 4.9521\n",
      "Epoch 90, loss: 4.9104\n",
      "Epoch 100, loss: 4.8787\n"
     ]
    }
   ],
   "source": [
    "input_dim = 1000\n",
    "model_dim = 512\n",
    "num_heads = 8\n",
    "num_layers = 6\n",
    "output_dim = 1000\n",
    "model = TransformerNet(input_dim, model_dim, num_heads, num_layers, output_dim)\n",
    "criterion = nn.CrossEntropyLoss()\n",
    "optimizer = optim.Adam(model.parameters(), lr=0.001)\n",
    "\n",
    "src = torch.randint(0, input_dim, (10, 20))\n",
    "tgt = torch.randint(0, output_dim, (10, 20))\n",
    "\n",
    "for epoch in range(1, 101):\n",
    "    optimizer.zero_grad()\n",
    "    outputs = model(src, tgt)\n",
    "    loss = criterion(outputs.view(-1, output_dim), tgt.view(-1))\n",
    "    loss.backward()\n",
    "    optimizer.step()\n",
    "    if epoch % 10 == 0:\n",
    "        print(f\"Epoch {epoch}, loss: {loss.item():.4f}\")"
   ]
  },
  {
   "cell_type": "code",
   "execution_count": null,
   "id": "dc6cd328-531c-4ad0-8a42-0e6aa730b864",
   "metadata": {},
   "outputs": [],
   "source": []
  }
 ],
 "metadata": {
  "kernelspec": {
   "display_name": "pytorch-cuda",
   "language": "python",
   "name": "pytorch-cuda"
  },
  "language_info": {
   "codemirror_mode": {
    "name": "ipython",
    "version": 3
   },
   "file_extension": ".py",
   "mimetype": "text/x-python",
   "name": "python",
   "nbconvert_exporter": "python",
   "pygments_lexer": "ipython3",
   "version": "3.10.4"
  }
 },
 "nbformat": 4,
 "nbformat_minor": 5
}
