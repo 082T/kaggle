{
 "cells": [
  {
   "cell_type": "code",
   "execution_count": 41,
   "id": "b1ab7f67-8577-4df0-8ac6-a082a612a2b3",
   "metadata": {},
   "outputs": [],
   "source": [
    "import os\n",
    "import torch\n",
    "from torch.utils.data import Dataset, DataLoader, IterableDataset\n",
    "from torchvision import transforms\n",
    "from PIL import Image\n",
    "import random\n",
    "from pathlib import Path"
   ]
  },
  {
   "cell_type": "markdown",
   "id": "86848047-705c-49fa-9a6b-3d3dcaccc091",
   "metadata": {},
   "source": [
    "## Dataset class"
   ]
  },
  {
   "cell_type": "code",
   "execution_count": 42,
   "id": "6d6bd1f9-0a55-4c94-819f-24f68f4706f0",
   "metadata": {},
   "outputs": [],
   "source": [
    "class CustomDataset(Dataset):\n",
    "    def __init__(self, img_dir, transform=None):\n",
    "        self.img_dir = img_dir\n",
    "        self.transform = transform\n",
    "        self.img_labels = [(file, label) for file, label in self._load_labels(img_dir)]\n",
    "    \n",
    "    def __len__(self):\n",
    "        return len(self.img_labels)\n",
    "\n",
    "    def __getitem__(self, idx):\n",
    "        img_path, label = self.img_labels[idx]\n",
    "        img = Image.open(img_path).convert(\"RGB\")\n",
    "        if self.transform:\n",
    "            img = self.transform(img)\n",
    "        return img, int(label)\n",
    "\n",
    "    def _load_labels(self, img_dir):\n",
    "        labels_file = os.path.join(img_dir, 'labels.txt')\n",
    "        with open(labels_file, 'r') as f:\n",
    "            labels = [line.strip().split() for line in f]\n",
    "        return labels"
   ]
  },
  {
   "cell_type": "markdown",
   "id": "69981a78-8543-4c9c-99f2-b30547c72951",
   "metadata": {},
   "source": [
    "## Transforms"
   ]
  },
  {
   "cell_type": "code",
   "execution_count": 43,
   "id": "e2241178-629c-4a0e-a930-f6f51ab111ab",
   "metadata": {},
   "outputs": [],
   "source": [
    "class RandomGreyscale(object):\n",
    "    def __init__(self, p=0.5):\n",
    "        self.p = p\n",
    "\n",
    "    def __call__(self, img):\n",
    "        if random.random() < self.p:\n",
    "            img = transforms.functional.to_greyscale(img, num_output_channels=3)\n",
    "        return img"
   ]
  },
  {
   "cell_type": "code",
   "execution_count": 44,
   "id": "88de57a8-f46b-4fc9-9351-5f38b7ed4293",
   "metadata": {},
   "outputs": [],
   "source": [
    "custom_transform = transforms.Compose([\n",
    "    transforms.Resize((128, 128)),\n",
    "    RandomGreyscale(p=0.3),\n",
    "    transforms.ToTensor(),\n",
    "    transforms.Normalize((0.5, 0.5, 0.5), (0.5, 0.5, 0.5))\n",
    "])"
   ]
  },
  {
   "cell_type": "markdown",
   "id": "181f4ef9-f788-491a-84bd-cf02fda1aebe",
   "metadata": {},
   "source": [
    "## DataLoader"
   ]
  },
  {
   "cell_type": "code",
   "execution_count": 45,
   "id": "23a1ca65-b25d-4b07-ad36-5897c6bbe24a",
   "metadata": {},
   "outputs": [],
   "source": [
    "# dataset = CustomDataset(img_dir=\"path_to_dir\", transform=custom_transform)\n",
    "\n",
    "# dataloader = DataLoader(dataset, batch_size=32, shuffle=True, num_workers=4, pin_memory=True)\n",
    "\n",
    "# for images, labels in dataloader:\n",
    "#     training loop\n",
    "#     pass"
   ]
  },
  {
   "cell_type": "markdown",
   "id": "0149d4e5-4fcf-448e-8e5f-0f217896b46a",
   "metadata": {},
   "source": [
    "## IterableDataset class"
   ]
  },
  {
   "cell_type": "code",
   "execution_count": 47,
   "id": "17064a50-c039-46b4-9218-39a0814f3557",
   "metadata": {},
   "outputs": [],
   "source": [
    "class LargeImageDataset(IterableDataset):\n",
    "    def __init__(self, root_dir, transform=None):\n",
    "        self.root_dir = root_dir\n",
    "        self.transform = transform\n",
    "\n",
    "    def __iter__(self):\n",
    "        for file_path in self._get_image_files():\n",
    "            image = self._load_image(file_path)\n",
    "            label = self._get_label_from_path(file_path)\n",
    "            yield image, label\n",
    "\n",
    "    def _get_image_files(self):\n",
    "        root_path = Path(self.root_dir)\n",
    "        for entry in root_path.iterdir():\n",
    "            if entry.is_file() and entry.suffix in ('.png', '.jpg', '.jpeg'):\n",
    "                yield entry\n",
    "\n",
    "    def _load_image(self, file_path):\n",
    "        # Load and optionally transform the image\n",
    "        image = Image.open(file_path).convert('RGB')\n",
    "        if self.transform:\n",
    "            image = self.transform(image)\n",
    "        return image\n",
    "\n",
    "    def _get_label_from_path(self, file_path):\n",
    "        return file_path.parent.name"
   ]
  },
  {
   "cell_type": "code",
   "execution_count": 49,
   "id": "b455f515-d2ac-4425-9671-856c64701d2e",
   "metadata": {},
   "outputs": [],
   "source": [
    "transform = transforms.Compose([\n",
    "    transforms.Resize((128, 128)),\n",
    "    transforms.ToTensor(),\n",
    "    transforms.Normalize((0.5, 0.5, 0.5), (0.5, 0.5, 0.5))\n",
    "])\n",
    "\n",
    "# dataset = LargeImageDataset(root_dir='path/to/dataset', transform=transform)\n",
    "# dataloader = DataLoader(dataset, batch_size=32, num_workers=4, pin_memory=True)\n",
    "\n",
    "# for epoch in range(5):  # Assume 5 epochs\n",
    "#     for batch_idx, (images, labels) in enumerate(dataloader):\n",
    "#         pass"
   ]
  },
  {
   "cell_type": "code",
   "execution_count": null,
   "id": "7e40e165-d597-496e-9b5f-4a27f37fe637",
   "metadata": {},
   "outputs": [],
   "source": []
  }
 ],
 "metadata": {
  "kernelspec": {
   "display_name": "pytorch-cuda",
   "language": "python",
   "name": "pytorch-cuda"
  },
  "language_info": {
   "codemirror_mode": {
    "name": "ipython",
    "version": 3
   },
   "file_extension": ".py",
   "mimetype": "text/x-python",
   "name": "python",
   "nbconvert_exporter": "python",
   "pygments_lexer": "ipython3",
   "version": "3.10.4"
  }
 },
 "nbformat": 4,
 "nbformat_minor": 5
}
